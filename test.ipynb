{
 "cells": [
  {
   "cell_type": "code",
   "execution_count": 2,
   "metadata": {},
   "outputs": [
    {
     "data": {
      "text/html": [
       "<div>\n",
       "<style scoped>\n",
       "    .dataframe tbody tr th:only-of-type {\n",
       "        vertical-align: middle;\n",
       "    }\n",
       "\n",
       "    .dataframe tbody tr th {\n",
       "        vertical-align: top;\n",
       "    }\n",
       "\n",
       "    .dataframe thead th {\n",
       "        text-align: right;\n",
       "    }\n",
       "</style>\n",
       "<table border=\"1\" class=\"dataframe\">\n",
       "  <thead>\n",
       "    <tr style=\"text-align: right;\">\n",
       "      <th></th>\n",
       "      <th>城市收入</th>\n",
       "      <th>2011</th>\n",
       "      <th>2012</th>\n",
       "      <th>2013</th>\n",
       "      <th>2014</th>\n",
       "      <th>2015</th>\n",
       "      <th>2016</th>\n",
       "      <th>2017</th>\n",
       "      <th>2018</th>\n",
       "      <th>2019</th>\n",
       "      <th>2020</th>\n",
       "    </tr>\n",
       "  </thead>\n",
       "  <tbody>\n",
       "    <tr>\n",
       "      <th>0</th>\n",
       "      <td>?北??京</td>\n",
       "      <td>32903.03</td>\n",
       "      <td>36468.75</td>\n",
       "      <td>40321.00</td>\n",
       "      <td>48531.8</td>\n",
       "      <td>52859.2</td>\n",
       "      <td>57275.31079</td>\n",
       "      <td>62406.34222</td>\n",
       "      <td>67989.88886</td>\n",
       "      <td>73848.51337</td>\n",
       "      <td>69433.53964</td>\n",
       "    </tr>\n",
       "    <tr>\n",
       "      <th>1</th>\n",
       "      <td>?天??津</td>\n",
       "      <td>26920.86</td>\n",
       "      <td>29626.41</td>\n",
       "      <td>32293.60</td>\n",
       "      <td>31506.0</td>\n",
       "      <td>34101.3</td>\n",
       "      <td>37109.57286</td>\n",
       "      <td>40277.53931</td>\n",
       "      <td>42976.25264</td>\n",
       "      <td>46118.88892</td>\n",
       "      <td>43854.09361</td>\n",
       "    </tr>\n",
       "    <tr>\n",
       "      <th>2</th>\n",
       "      <td>?河??北</td>\n",
       "      <td>18292.23</td>\n",
       "      <td>20543.44</td>\n",
       "      <td>22580.30</td>\n",
       "      <td>24141.3</td>\n",
       "      <td>26152.2</td>\n",
       "      <td>28249.39182</td>\n",
       "      <td>30547.75811</td>\n",
       "      <td>32977.17583</td>\n",
       "      <td>35737.68343</td>\n",
       "      <td>27135.93668</td>\n",
       "    </tr>\n",
       "    <tr>\n",
       "      <th>3</th>\n",
       "      <td>?山??西</td>\n",
       "      <td>18123.87</td>\n",
       "      <td>20411.71</td>\n",
       "      <td>22455.60</td>\n",
       "      <td>24069.4</td>\n",
       "      <td>25827.7</td>\n",
       "      <td>27352.33097</td>\n",
       "      <td>29131.80796</td>\n",
       "      <td>31034.80226</td>\n",
       "      <td>33262.36558</td>\n",
       "      <td>25213.67066</td>\n",
       "    </tr>\n",
       "    <tr>\n",
       "      <th>4</th>\n",
       "      <td>?内蒙古</td>\n",
       "      <td>20407.57</td>\n",
       "      <td>23150.26</td>\n",
       "      <td>25496.70</td>\n",
       "      <td>28349.6</td>\n",
       "      <td>30594.1</td>\n",
       "      <td>32974.94643</td>\n",
       "      <td>35670.02049</td>\n",
       "      <td>38304.67874</td>\n",
       "      <td>40782.45901</td>\n",
       "      <td>31497.31528</td>\n",
       "    </tr>\n",
       "    <tr>\n",
       "      <th>...</th>\n",
       "      <td>...</td>\n",
       "      <td>...</td>\n",
       "      <td>...</td>\n",
       "      <td>...</td>\n",
       "      <td>...</td>\n",
       "      <td>...</td>\n",
       "      <td>...</td>\n",
       "      <td>...</td>\n",
       "      <td>...</td>\n",
       "      <td>...</td>\n",
       "      <td>...</td>\n",
       "    </tr>\n",
       "    <tr>\n",
       "      <th>64</th>\n",
       "      <td>?陕??西</td>\n",
       "      <td>13782.75</td>\n",
       "      <td>15332.84</td>\n",
       "      <td>16679.69</td>\n",
       "      <td>17546.0</td>\n",
       "      <td>18463.9</td>\n",
       "      <td>19368.90464</td>\n",
       "      <td>20388.22276</td>\n",
       "      <td>21966.43123</td>\n",
       "      <td>23514.28113</td>\n",
       "      <td>17417.61979</td>\n",
       "    </tr>\n",
       "    <tr>\n",
       "      <th>65</th>\n",
       "      <td>?甘??肃</td>\n",
       "      <td>11188.57</td>\n",
       "      <td>12847.05</td>\n",
       "      <td>14020.72</td>\n",
       "      <td>15942.3</td>\n",
       "      <td>17450.9</td>\n",
       "      <td>19539.22163</td>\n",
       "      <td>20659.44639</td>\n",
       "      <td>22605.97044</td>\n",
       "      <td>24453.86994</td>\n",
       "      <td>16174.94830</td>\n",
       "    </tr>\n",
       "    <tr>\n",
       "      <th>66</th>\n",
       "      <td>?青??海</td>\n",
       "      <td>10955.46</td>\n",
       "      <td>12346.29</td>\n",
       "      <td>13539.50</td>\n",
       "      <td>17492.9</td>\n",
       "      <td>19200.6</td>\n",
       "      <td>20853.16644</td>\n",
       "      <td>21472.98570</td>\n",
       "      <td>22997.52793</td>\n",
       "      <td>23799.17496</td>\n",
       "      <td>18284.22819</td>\n",
       "    </tr>\n",
       "    <tr>\n",
       "      <th>67</th>\n",
       "      <td>?宁??夏</td>\n",
       "      <td>12896.04</td>\n",
       "      <td>14067.15</td>\n",
       "      <td>15321.10</td>\n",
       "      <td>17216.2</td>\n",
       "      <td>18983.9</td>\n",
       "      <td>20364.23313</td>\n",
       "      <td>20219.49052</td>\n",
       "      <td>21976.69150</td>\n",
       "      <td>24160.96336</td>\n",
       "      <td>17505.82127</td>\n",
       "    </tr>\n",
       "    <tr>\n",
       "      <th>68</th>\n",
       "      <td>?新??疆</td>\n",
       "      <td>11839.40</td>\n",
       "      <td>13891.72</td>\n",
       "      <td>15206.16</td>\n",
       "      <td>17684.5</td>\n",
       "      <td>19414.7</td>\n",
       "      <td>21228.50088</td>\n",
       "      <td>22796.91567</td>\n",
       "      <td>24191.39243</td>\n",
       "      <td>25594.21340</td>\n",
       "      <td>16512.06190</td>\n",
       "    </tr>\n",
       "  </tbody>\n",
       "</table>\n",
       "<p>69 rows × 11 columns</p>\n",
       "</div>"
      ],
      "text/plain": [
       "     城市收入      2011      2012      2013     2014     2015         2016  \\\n",
       "0   ?北??京  32903.03  36468.75  40321.00  48531.8  52859.2  57275.31079   \n",
       "1   ?天??津  26920.86  29626.41  32293.60  31506.0  34101.3  37109.57286   \n",
       "2   ?河??北  18292.23  20543.44  22580.30  24141.3  26152.2  28249.39182   \n",
       "3   ?山??西  18123.87  20411.71  22455.60  24069.4  25827.7  27352.33097   \n",
       "4    ?内蒙古  20407.57  23150.26  25496.70  28349.6  30594.1  32974.94643   \n",
       "..    ...       ...       ...       ...      ...      ...          ...   \n",
       "64  ?陕??西  13782.75  15332.84  16679.69  17546.0  18463.9  19368.90464   \n",
       "65  ?甘??肃  11188.57  12847.05  14020.72  15942.3  17450.9  19539.22163   \n",
       "66  ?青??海  10955.46  12346.29  13539.50  17492.9  19200.6  20853.16644   \n",
       "67  ?宁??夏  12896.04  14067.15  15321.10  17216.2  18983.9  20364.23313   \n",
       "68  ?新??疆  11839.40  13891.72  15206.16  17684.5  19414.7  21228.50088   \n",
       "\n",
       "           2017         2018         2019         2020  \n",
       "0   62406.34222  67989.88886  73848.51337  69433.53964  \n",
       "1   40277.53931  42976.25264  46118.88892  43854.09361  \n",
       "2   30547.75811  32977.17583  35737.68343  27135.93668  \n",
       "3   29131.80796  31034.80226  33262.36558  25213.67066  \n",
       "4   35670.02049  38304.67874  40782.45901  31497.31528  \n",
       "..          ...          ...          ...          ...  \n",
       "64  20388.22276  21966.43123  23514.28113  17417.61979  \n",
       "65  20659.44639  22605.97044  24453.86994  16174.94830  \n",
       "66  21472.98570  22997.52793  23799.17496  18284.22819  \n",
       "67  20219.49052  21976.69150  24160.96336  17505.82127  \n",
       "68  22796.91567  24191.39243  25594.21340  16512.06190  \n",
       "\n",
       "[69 rows x 11 columns]"
      ]
     },
     "execution_count": 2,
     "metadata": {},
     "output_type": "execute_result"
    }
   ],
   "source": [
    "import pandas as pd\n",
    "data = pd.read_csv('data.csv', encoding=\"gbk\")\n",
    "data\n"
   ]
  },
  {
   "cell_type": "code",
   "execution_count": 3,
   "metadata": {},
   "outputs": [
    {
     "data": {
      "text/plain": [
       "(31, 10)"
      ]
     },
     "execution_count": 3,
     "metadata": {},
     "output_type": "execute_result"
    }
   ],
   "source": [
    "dataset = data.values[:31, 1:]\n",
    "dataset.shape"
   ]
  },
  {
   "cell_type": "code",
   "execution_count": 8,
   "metadata": {},
   "outputs": [],
   "source": [
    "#定义距离函数\n",
    "from math import sqrt, pow\n",
    "def distEclud(vecA, vecB):\n",
    "    return sqrt(sum((vecA-vecB)**2))\n"
   ]
  },
  {
   "cell_type": "code",
   "execution_count": 9,
   "metadata": {},
   "outputs": [],
   "source": [
    "#设置质心\n",
    "import numpy as np\n",
    "def randCent(dataSet,k):\n",
    "    m,n = dataSet.shape\n",
    "    centroids = np.zeros((k,n))\n",
    "    for i in range(k):\n",
    "        index = int(np.random.uniform(0,m)) #\n",
    "        centroids[i,:] = dataSet[index,:]\n",
    "    return centroids"
   ]
  },
  {
   "cell_type": "code",
   "execution_count": 10,
   "metadata": {},
   "outputs": [],
   "source": [
    "# k均值聚类\n",
    "def KMeans(dataSet,k):\n",
    " \n",
    "    m = np.shape(dataSet)[0]  #行的数目\n",
    "    # 第一列存样本属于哪一簇\n",
    "    # 第二列存样本的到簇的中心点的误差\n",
    "    clusterAssment = np.mat(np.zeros((m,2)))\n",
    "    clusterChange = True\n",
    " \n",
    "    # 第1步 初始化centroids\n",
    "    centroids = randCent(dataSet,k)\n",
    "    while clusterChange:\n",
    "        clusterChange = False\n",
    " \n",
    "        # 遍历所有的样本（行数）\n",
    "        for i in range(m):\n",
    "            minDist = 1000000.0\n",
    "            minIndex = -1\n",
    " \n",
    "            # 遍历所有的质心\n",
    "            #第2步 找出最近的质心\n",
    "            for j in range(k):\n",
    "                # 计算该样本到质心的欧式距离\n",
    "                distance = distEclud(centroids[j,:],dataSet[i,:])\n",
    "                if distance < minDist:\n",
    "                    minDist = distance\n",
    "                    minIndex = j\n",
    "            # 第 3 步：更新每一行样本所属的簇\n",
    "            if clusterAssment[i,0] != minIndex:\n",
    "                clusterChange = True\n",
    "                clusterAssment[i,:] = minIndex,minDist**2\n",
    "        #第 4 步：更新质心\n",
    "        for j in range(k):\n",
    "            pointsInCluster = dataSet[np.nonzero(clusterAssment[:,0].A == j)[0]]  # 获取簇类所有的点\n",
    "            centroids[j,:] = np.mean(pointsInCluster,axis=0)   # 对矩阵的行求均值\n",
    " \n",
    "    print(\"Congratulations,cluster complete!\")\n",
    "    return centroids,clusterAssment\n",
    "\n"
   ]
  },
  {
   "cell_type": "code",
   "execution_count": 11,
   "metadata": {},
   "outputs": [
    {
     "name": "stdout",
     "output_type": "stream",
     "text": [
      "Congratulations,cluster complete!\n"
     ]
    }
   ],
   "source": [
    "centroids,clusterAssment = KMeans(dataset, 3)"
   ]
  },
  {
   "cell_type": "code",
   "execution_count": 17,
   "metadata": {},
   "outputs": [],
   "source": [
    "lable = data.values[:31, 0]\n",
    "F = []\n",
    "S = []\n",
    "T = []\n",
    "for i in range(clusterAssment.shape[0]):\n",
    "    if clusterAssment[i, 0] == 0:\n",
    "        F = np.append(F, lable[i])\n",
    "    elif clusterAssment[i, 0] == 1:\n",
    "        S = np.append(S, lable[i])\n",
    "    elif clusterAssment[i, 0] == 2:\n",
    "        T = np.append(T, lable[i])\n"
   ]
  },
  {
   "cell_type": "code",
   "execution_count": 18,
   "metadata": {},
   "outputs": [
    {
     "data": {
      "text/plain": [
       "array(['?北??京', '?上??海', '?浙??江'], dtype='<U32')"
      ]
     },
     "execution_count": 18,
     "metadata": {},
     "output_type": "execute_result"
    }
   ],
   "source": [
    "F"
   ]
  },
  {
   "cell_type": "code",
   "execution_count": 21,
   "metadata": {},
   "outputs": [
    {
     "name": "stdout",
     "output_type": "stream",
     "text": [
      "第一类:['?北??京' '?上??海' '?浙??江']\n",
      "第二类:['?天??津' '?内蒙古' '?辽??宁' '?江??苏' '?福??建' '?山??东' '?广??东']\n",
      "第三类:['?河??北' '?山??西' '?吉??林' '?黑龙江' '?安??徽' '?江??西' '?河??南' '?湖??北' '?湖??南'\n",
      " '?广??西' '?海??南' '?重??庆' '?四??川' '?贵??州' '?云??南' '?西??藏' '?陕??西' '?甘??肃'\n",
      " '?青??海' '?宁??夏' '?新??疆']\n"
     ]
    }
   ],
   "source": [
    "print('kmeans第一类:%s'%(F))\n",
    "print('kmeans第二类:%s'%(S))\n",
    "print('kmeans第三类:%s'%(T))"
   ]
  },
  {
   "cell_type": "code",
   "execution_count": 23,
   "metadata": {},
   "outputs": [
    {
     "data": {
      "text/plain": [
       "array([1, 2, 0, 0, 2, 2, 0, 0, 1, 2, 1, 0, 2, 0, 2, 0, 0, 0, 2, 0, 0, 0,\n",
       "       0, 0, 0, 0, 0, 0, 0, 0, 0])"
      ]
     },
     "execution_count": 23,
     "metadata": {},
     "output_type": "execute_result"
    }
   ],
   "source": [
    "#sklearn kmeans\n",
    "import numpy as np\n",
    "from sklearn.cluster import KMeans\n",
    "k_means = KMeans(n_clusters=3)\n",
    "y_predict =k_means.fit_predict(dataset)\n",
    "y_predict"
   ]
  },
  {
   "cell_type": "code",
   "execution_count": null,
   "metadata": {},
   "outputs": [],
   "source": [
    "#pca+kmeans\n",
    "from sklearn.decomposition import PCA\n",
    "from pandas.core.frame import DataFrame\n",
    "pca = PCA(n_components=2)\n",
    "newMat = pca.fit_transform(dataset)\n",
    "pcadata = DataFrame(newMat)\n",
    "pcad = pcadata.values\n",
    "pca_kmeans = KMeans(n_clusters=3)\n",
    "y_predict =pca_kmeans.fit_predict(pcad)\n",
    "y_predict"
   ]
  },
  {
   "cell_type": "code",
   "execution_count": 96,
   "metadata": {},
   "outputs": [],
   "source": [
    "lable = data.values[:31, 0]\n",
    "F = []\n",
    "Fd = np.zeros(shape=(2,1))\n",
    "S = []\n",
    "Sd = np.zeros(shape=(2,1))\n",
    "T = []\n",
    "Td = np.zeros(shape=(2,1))\n",
    "for i in range(y_predict.shape[0]):\n",
    "    if y_predict[i] == 0:\n",
    "        F = np.append(F, lable[i])\n",
    "        Fd = np.c_[Fd, pcad[i]]\n",
    "    elif y_predict[i] == 1:\n",
    "        S = np.append(S, lable[i])\n",
    "        Sd = np.c_[Sd, pcad[i]]\n",
    "    elif y_predict[i] == 2:\n",
    "        T = np.append(T, lable[i])\n",
    "        Td = np.c_[Td, pcad[i]]\n",
    "Fd = np.delete(Fd.T,0,axis=0)\n",
    "Sd = np.delete(Sd.T,0,axis=0)\n",
    "Td = np.delete(Td.T,0,axis=0)\n"
   ]
  },
  {
   "cell_type": "code",
   "execution_count": 84,
   "metadata": {},
   "outputs": [
    {
     "name": "stdout",
     "output_type": "stream",
     "text": [
      "第一类:['?河??北' '?山??西' '?吉??林' '?黑龙江' '?安??徽' '?江??西' '?河??南' '?湖??北' '?湖??南'\n",
      " '?广??西' '?海??南' '?重??庆' '?四??川' '?贵??州' '?云??南' '?西??藏' '?陕??西' '?甘??肃'\n",
      " '?青??海' '?宁??夏' '?新??疆']\n",
      "第二类:['?北??京' '?上??海' '?浙??江']\n",
      "第三类:['?天??津' '?内蒙古' '?辽??宁' '?江??苏' '?福??建' '?山??东' '?广??东']\n"
     ]
    }
   ],
   "source": [
    "print('sklearn_kmeans第一类:%s'%(F))\n",
    "print('sklearn_kmeans第二类:%s'%(S))\n",
    "print('sklearn_kmeans第三类:%s'%(T))"
   ]
  },
  {
   "cell_type": "code",
   "execution_count": 118,
   "metadata": {},
   "outputs": [
    {
     "ename": "ValueError",
     "evalue": "too many values to unpack (expected 2)",
     "output_type": "error",
     "traceback": [
      "\u001b[1;31m---------------------------------------------------------------------------\u001b[0m",
      "\u001b[1;31mValueError\u001b[0m                                Traceback (most recent call last)",
      "\u001b[1;32mc:\\Users\\Administrator\\Desktop\\算法\\k_means\\test.ipynb Cell 17'\u001b[0m in \u001b[0;36m<cell line: 6>\u001b[1;34m()\u001b[0m\n\u001b[0;32m      <a href='vscode-notebook-cell:/c%3A/Users/Administrator/Desktop/%E7%AE%97%E6%B3%95/k_means/test.ipynb#ch0000019?line=4'>5</a>\u001b[0m plt\u001b[39m.\u001b[39mscatter(Fd[:, \u001b[39m0\u001b[39m],Fd[:, \u001b[39m1\u001b[39m], cmap\u001b[39m=\u001b[39m\u001b[39m'\u001b[39m\u001b[39mOranges\u001b[39m\u001b[39m'\u001b[39m, label\u001b[39m=\u001b[39m\u001b[39m'\u001b[39m\u001b[39m1\u001b[39m\u001b[39m'\u001b[39m,s\u001b[39m=\u001b[39m\u001b[39m80\u001b[39m)\n\u001b[0;32m      <a href='vscode-notebook-cell:/c%3A/Users/Administrator/Desktop/%E7%AE%97%E6%B3%95/k_means/test.ipynb#ch0000019?line=5'>6</a>\u001b[0m \u001b[39mfor\u001b[39;00m i \u001b[39min\u001b[39;00m \u001b[39mrange\u001b[39m(Fd\u001b[39m.\u001b[39mshape[\u001b[39m0\u001b[39m]):\n\u001b[1;32m----> <a href='vscode-notebook-cell:/c%3A/Users/Administrator/Desktop/%E7%AE%97%E6%B3%95/k_means/test.ipynb#ch0000019?line=6'>7</a>\u001b[0m     plt\u001b[39m.\u001b[39;49mannotate(Fd[i], xy\u001b[39m=\u001b[39;49m(F[i]))\n\u001b[0;32m      <a href='vscode-notebook-cell:/c%3A/Users/Administrator/Desktop/%E7%AE%97%E6%B3%95/k_means/test.ipynb#ch0000019?line=7'>8</a>\u001b[0m     xytext\u001b[39m=\u001b[39m(Fd[i, \u001b[39m0\u001b[39m] \u001b[39m+\u001b[39m \u001b[39m0.001\u001b[39m, Fd[i, \u001b[39m1\u001b[39m] \u001b[39m+\u001b[39m \u001b[39m0.001\u001b[39m)\n\u001b[0;32m      <a href='vscode-notebook-cell:/c%3A/Users/Administrator/Desktop/%E7%AE%97%E6%B3%95/k_means/test.ipynb#ch0000019?line=8'>9</a>\u001b[0m plt\u001b[39m.\u001b[39mscatter(Sd[:, \u001b[39m0\u001b[39m],Sd[:, \u001b[39m1\u001b[39m], cmap\u001b[39m=\u001b[39m\u001b[39m'\u001b[39m\u001b[39msummer\u001b[39m\u001b[39m'\u001b[39m, label\u001b[39m=\u001b[39m\u001b[39m'\u001b[39m\u001b[39m2\u001b[39m\u001b[39m'\u001b[39m,s\u001b[39m=\u001b[39m\u001b[39m80\u001b[39m)\n",
      "File \u001b[1;32md:\\ANACONDA\\lib\\site-packages\\matplotlib\\cbook\\deprecation.py:315\u001b[0m, in \u001b[0;36m_rename_parameter.<locals>.wrapper\u001b[1;34m(*args, **kwargs)\u001b[0m\n\u001b[0;32m    <a href='file:///d%3A/ANACONDA/lib/site-packages/matplotlib/cbook/deprecation.py?line=309'>310</a>\u001b[0m     warn_deprecated(\n\u001b[0;32m    <a href='file:///d%3A/ANACONDA/lib/site-packages/matplotlib/cbook/deprecation.py?line=310'>311</a>\u001b[0m         since, message\u001b[39m=\u001b[39m\u001b[39mf\u001b[39m\u001b[39m\"\u001b[39m\u001b[39mThe \u001b[39m\u001b[39m{\u001b[39;00mold\u001b[39m!r}\u001b[39;00m\u001b[39m parameter of \u001b[39m\u001b[39m{\u001b[39;00mfunc\u001b[39m.\u001b[39m\u001b[39m__name__\u001b[39m\u001b[39m}\u001b[39;00m\u001b[39m() \u001b[39m\u001b[39m\"\u001b[39m\n\u001b[0;32m    <a href='file:///d%3A/ANACONDA/lib/site-packages/matplotlib/cbook/deprecation.py?line=311'>312</a>\u001b[0m         \u001b[39mf\u001b[39m\u001b[39m\"\u001b[39m\u001b[39mhas been renamed \u001b[39m\u001b[39m{\u001b[39;00mnew\u001b[39m!r}\u001b[39;00m\u001b[39m since Matplotlib \u001b[39m\u001b[39m{\u001b[39;00msince\u001b[39m}\u001b[39;00m\u001b[39m; support \u001b[39m\u001b[39m\"\u001b[39m\n\u001b[0;32m    <a href='file:///d%3A/ANACONDA/lib/site-packages/matplotlib/cbook/deprecation.py?line=312'>313</a>\u001b[0m         \u001b[39mf\u001b[39m\u001b[39m\"\u001b[39m\u001b[39mfor the old name will be dropped %(removal)s.\u001b[39m\u001b[39m\"\u001b[39m)\n\u001b[0;32m    <a href='file:///d%3A/ANACONDA/lib/site-packages/matplotlib/cbook/deprecation.py?line=313'>314</a>\u001b[0m     kwargs[new] \u001b[39m=\u001b[39m kwargs\u001b[39m.\u001b[39mpop(old)\n\u001b[1;32m--> <a href='file:///d%3A/ANACONDA/lib/site-packages/matplotlib/cbook/deprecation.py?line=314'>315</a>\u001b[0m \u001b[39mreturn\u001b[39;00m func(\u001b[39m*\u001b[39;49margs, \u001b[39m*\u001b[39;49m\u001b[39m*\u001b[39;49mkwargs)\n",
      "File \u001b[1;32md:\\ANACONDA\\lib\\site-packages\\matplotlib\\pyplot.py:2431\u001b[0m, in \u001b[0;36mannotate\u001b[1;34m(text, xy, *args, **kwargs)\u001b[0m\n\u001b[0;32m   <a href='file:///d%3A/ANACONDA/lib/site-packages/matplotlib/pyplot.py?line=2428'>2429</a>\u001b[0m \u001b[39m@_copy_docstring_and_deprecators\u001b[39m(Axes\u001b[39m.\u001b[39mannotate)\n\u001b[0;32m   <a href='file:///d%3A/ANACONDA/lib/site-packages/matplotlib/pyplot.py?line=2429'>2430</a>\u001b[0m \u001b[39mdef\u001b[39;00m \u001b[39mannotate\u001b[39m(text, xy, \u001b[39m*\u001b[39margs, \u001b[39m*\u001b[39m\u001b[39m*\u001b[39mkwargs):\n\u001b[1;32m-> <a href='file:///d%3A/ANACONDA/lib/site-packages/matplotlib/pyplot.py?line=2430'>2431</a>\u001b[0m     \u001b[39mreturn\u001b[39;00m gca()\u001b[39m.\u001b[39;49mannotate(text, xy, \u001b[39m*\u001b[39;49margs, \u001b[39m*\u001b[39;49m\u001b[39m*\u001b[39;49mkwargs)\n",
      "File \u001b[1;32md:\\ANACONDA\\lib\\site-packages\\matplotlib\\cbook\\deprecation.py:315\u001b[0m, in \u001b[0;36m_rename_parameter.<locals>.wrapper\u001b[1;34m(*args, **kwargs)\u001b[0m\n\u001b[0;32m    <a href='file:///d%3A/ANACONDA/lib/site-packages/matplotlib/cbook/deprecation.py?line=309'>310</a>\u001b[0m     warn_deprecated(\n\u001b[0;32m    <a href='file:///d%3A/ANACONDA/lib/site-packages/matplotlib/cbook/deprecation.py?line=310'>311</a>\u001b[0m         since, message\u001b[39m=\u001b[39m\u001b[39mf\u001b[39m\u001b[39m\"\u001b[39m\u001b[39mThe \u001b[39m\u001b[39m{\u001b[39;00mold\u001b[39m!r}\u001b[39;00m\u001b[39m parameter of \u001b[39m\u001b[39m{\u001b[39;00mfunc\u001b[39m.\u001b[39m\u001b[39m__name__\u001b[39m\u001b[39m}\u001b[39;00m\u001b[39m() \u001b[39m\u001b[39m\"\u001b[39m\n\u001b[0;32m    <a href='file:///d%3A/ANACONDA/lib/site-packages/matplotlib/cbook/deprecation.py?line=311'>312</a>\u001b[0m         \u001b[39mf\u001b[39m\u001b[39m\"\u001b[39m\u001b[39mhas been renamed \u001b[39m\u001b[39m{\u001b[39;00mnew\u001b[39m!r}\u001b[39;00m\u001b[39m since Matplotlib \u001b[39m\u001b[39m{\u001b[39;00msince\u001b[39m}\u001b[39;00m\u001b[39m; support \u001b[39m\u001b[39m\"\u001b[39m\n\u001b[0;32m    <a href='file:///d%3A/ANACONDA/lib/site-packages/matplotlib/cbook/deprecation.py?line=312'>313</a>\u001b[0m         \u001b[39mf\u001b[39m\u001b[39m\"\u001b[39m\u001b[39mfor the old name will be dropped %(removal)s.\u001b[39m\u001b[39m\"\u001b[39m)\n\u001b[0;32m    <a href='file:///d%3A/ANACONDA/lib/site-packages/matplotlib/cbook/deprecation.py?line=313'>314</a>\u001b[0m     kwargs[new] \u001b[39m=\u001b[39m kwargs\u001b[39m.\u001b[39mpop(old)\n\u001b[1;32m--> <a href='file:///d%3A/ANACONDA/lib/site-packages/matplotlib/cbook/deprecation.py?line=314'>315</a>\u001b[0m \u001b[39mreturn\u001b[39;00m func(\u001b[39m*\u001b[39;49margs, \u001b[39m*\u001b[39;49m\u001b[39m*\u001b[39;49mkwargs)\n",
      "File \u001b[1;32md:\\ANACONDA\\lib\\site-packages\\matplotlib\\axes\\_axes.py:773\u001b[0m, in \u001b[0;36mAxes.annotate\u001b[1;34m(self, text, xy, *args, **kwargs)\u001b[0m\n\u001b[0;32m    <a href='file:///d%3A/ANACONDA/lib/site-packages/matplotlib/axes/_axes.py?line=769'>770</a>\u001b[0m \u001b[39m@cbook\u001b[39m\u001b[39m.\u001b[39m_rename_parameter(\u001b[39m\"\u001b[39m\u001b[39m3.3\u001b[39m\u001b[39m\"\u001b[39m, \u001b[39m\"\u001b[39m\u001b[39ms\u001b[39m\u001b[39m\"\u001b[39m, \u001b[39m\"\u001b[39m\u001b[39mtext\u001b[39m\u001b[39m\"\u001b[39m)\n\u001b[0;32m    <a href='file:///d%3A/ANACONDA/lib/site-packages/matplotlib/axes/_axes.py?line=770'>771</a>\u001b[0m \u001b[39m@docstring\u001b[39m\u001b[39m.\u001b[39mdedent_interpd\n\u001b[0;32m    <a href='file:///d%3A/ANACONDA/lib/site-packages/matplotlib/axes/_axes.py?line=771'>772</a>\u001b[0m \u001b[39mdef\u001b[39;00m \u001b[39mannotate\u001b[39m(\u001b[39mself\u001b[39m, text, xy, \u001b[39m*\u001b[39margs, \u001b[39m*\u001b[39m\u001b[39m*\u001b[39mkwargs):\n\u001b[1;32m--> <a href='file:///d%3A/ANACONDA/lib/site-packages/matplotlib/axes/_axes.py?line=772'>773</a>\u001b[0m     a \u001b[39m=\u001b[39m mtext\u001b[39m.\u001b[39;49mAnnotation(text, xy, \u001b[39m*\u001b[39;49margs, \u001b[39m*\u001b[39;49m\u001b[39m*\u001b[39;49mkwargs)\n\u001b[0;32m    <a href='file:///d%3A/ANACONDA/lib/site-packages/matplotlib/axes/_axes.py?line=773'>774</a>\u001b[0m     a\u001b[39m.\u001b[39mset_transform(mtransforms\u001b[39m.\u001b[39mIdentityTransform())\n\u001b[0;32m    <a href='file:///d%3A/ANACONDA/lib/site-packages/matplotlib/axes/_axes.py?line=774'>775</a>\u001b[0m     \u001b[39mif\u001b[39;00m \u001b[39m'\u001b[39m\u001b[39mclip_on\u001b[39m\u001b[39m'\u001b[39m \u001b[39min\u001b[39;00m kwargs:\n",
      "File \u001b[1;32md:\\ANACONDA\\lib\\site-packages\\matplotlib\\text.py:1729\u001b[0m, in \u001b[0;36mAnnotation.__init__\u001b[1;34m(self, text, xy, xytext, xycoords, textcoords, arrowprops, annotation_clip, **kwargs)\u001b[0m\n\u001b[0;32m   <a href='file:///d%3A/ANACONDA/lib/site-packages/matplotlib/text.py?line=1726'>1727</a>\u001b[0m \u001b[39mif\u001b[39;00m xytext \u001b[39mis\u001b[39;00m \u001b[39mNone\u001b[39;00m:\n\u001b[0;32m   <a href='file:///d%3A/ANACONDA/lib/site-packages/matplotlib/text.py?line=1727'>1728</a>\u001b[0m     xytext \u001b[39m=\u001b[39m \u001b[39mself\u001b[39m\u001b[39m.\u001b[39mxy\n\u001b[1;32m-> <a href='file:///d%3A/ANACONDA/lib/site-packages/matplotlib/text.py?line=1728'>1729</a>\u001b[0m x, y \u001b[39m=\u001b[39m xytext\n\u001b[0;32m   <a href='file:///d%3A/ANACONDA/lib/site-packages/matplotlib/text.py?line=1730'>1731</a>\u001b[0m \u001b[39mself\u001b[39m\u001b[39m.\u001b[39marrowprops \u001b[39m=\u001b[39m arrowprops\n\u001b[0;32m   <a href='file:///d%3A/ANACONDA/lib/site-packages/matplotlib/text.py?line=1731'>1732</a>\u001b[0m \u001b[39mif\u001b[39;00m arrowprops \u001b[39mis\u001b[39;00m \u001b[39mnot\u001b[39;00m \u001b[39mNone\u001b[39;00m:\n",
      "\u001b[1;31mValueError\u001b[0m: too many values to unpack (expected 2)"
     ]
    },
    {
     "data": {
      "image/png": "[encoded data removed]",
      "text/plain": [
       "<Figure size 1080x1080 with 1 Axes>"
      ]
     },
     "metadata": {
      "needs_background": "light"
     },
     "output_type": "display_data"
    }
   ],
   "source": [
    "import matplotlib\n",
    "plt.figure(figsize=(15,15))\n",
    "plt.xlim((-25000, 100000))\n",
    "plt.ylim((-10000, 10000))\n",
    "plt.scatter(Fd[:, 0],Fd[:, 1], cmap='Oranges', label='1',s=80)\n",
    "for i in range(Fd.shape[0]):\n",
    "    plt.annotate(Fd[i], xy=(F[i]))\n",
    "    xytext=(Fd[i, 0] + 0.001, Fd[i, 1] + 0.001)\n",
    "plt.scatter(Sd[:, 0],Sd[:, 1], cmap='summer', label='2',s=80)\n",
    "for i in range(Sd.shape[0]):\n",
    "    plt.text(Sd[i, 0], Sd[i, 0],(S[i]))\n",
    "plt.scatter(Td[:, 0],Td[:, 1], cmap='rainbow', label='3',s=80)\n",
    "for i in range(Td.shape[0]):\n",
    "    plt.text(Td[i, 0], Td[i, 0],(T[i]))\n",
    "plt.legend(prop={\"size\": 20}) \n",
    "plt.grid(True)\n",
    "plt.show()"
   ]
  },
  {
   "cell_type": "code",
   "execution_count": null,
   "metadata": {},
   "outputs": [],
   "source": [
    "import matplotlib.pyplot as plt\n",
    "import matplotlib\n",
    "x1_min, x1_max=-200000, 200000 #第0维特征的范围\n",
    "x2_min, x2_max=-200000, 200000 #第1维特征的范围\n",
    "x1,x2=np.mgrid[x1_min:x1_max:1000j, x2_min:x2_max:1000j ] #生成网络采样点\n",
    "grid_test=np.stack((x1.flat,x2.flat) ,axis=1) #测试点\n",
    "#指定默认字体\n",
    "matplotlib.rcParams['font.sans-serif']=['SimHei']\n",
    "#设置颜色\n",
    "cm_light=matplotlib.colors.ListedColormap(['#A0FFA0', '#FFA0A0', '#A0A0FF'])\n",
    "#cm_dark=matplotlib.colors.ListedColormap(['#000000', '#FFA0A0', '#A0A0FF'] )\n",
    " \n",
    "grid_hat = classifier.predict(grid_test)       # 预测分类值\n",
    "grid_hat = grid_hat.reshape(x1.shape)  # 使之与输入的形状相同"
   ]
  },
  {
   "cell_type": "code",
   "execution_count": null,
   "metadata": {},
   "outputs": [],
   "source": [
    "plt.pcolormesh(x1, x2, grid_hat, cmap=cm_light)     # 预测值的显示\n",
    "plt.scatter(x.values[:, 0], x.values[:, 1], c=y[:,0], s=20,cmap=cm_dark)  # 样本\n",
    "#plt.scatter(test_data.values[:,0],test_data.values[:,1], c=test_label[:,0],s=40,edgecolors='k', zorder=2,cmap=cm_dark) #圈中测试集样本点\n",
    "plt.xlabel('特征1', fontsize=20)\n",
    "plt.ylabel('特征2', fontsize=20)\n",
    "plt.rcParams['figure.figsize'] = (30, 30)\n",
    "plt.xlim(x1_min,x1_max)\n",
    "plt.ylim(x2_min,x2_max)\n",
    "plt.title('pca_svm', fontsize=20)\n",
    "plt.show()"
   ]
  }
 ],
 "metadata": {
  "interpreter": {
   "hash": "5dfae695991f40f7f711b859ebe4404a578ce2940a1c2f7058c1cb98bd497b2c"
  },
  "kernelspec": {
   "display_name": "Python 3.8.8 ('base')",
   "language": "python",
   "name": "python3"
  },
  "language_info": {
   "codemirror_mode": {
    "name": "ipython",
    "version": 3
   },
   "file_extension": ".py",
   "mimetype": "text/x-python",
   "name": "python",
   "nbconvert_exporter": "python",
   "pygments_lexer": "ipython3",
   "version": "3.8.8"
  },
  "orig_nbformat": 4
 },
 "nbformat": 4,
 "nbformat_minor": 2
}
